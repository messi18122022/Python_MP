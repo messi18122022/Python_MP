{
 "cells": [
  {
   "cell_type": "markdown",
   "metadata": {},
   "source": [
    "# Einführung in Pandas\n",
    "Pandas ist eine Python-Bibliothek, die sich hervorragend für Datenanalyse und -manipulation eignet. Im Folgenden sind die wichtigsten Funktionen und Beispiele aufgeführt.\n",
    "\n",
    "---\n",
    "\n",
    "## 1. Daten einlesen\n",
    "Pandas unterstützt viele Dateiformate wie CSV, Excel, JSON usw.\n"
   ]
  },
  {
   "cell_type": "code",
   "execution_count": null,
   "metadata": {},
   "outputs": [],
   "source": [
    "import pandas as pd\n",
    "\n",
    "# CSV-Datei einlesen\n",
    "df_csv = pd.read_csv(\"datei.csv\")\n",
    "\n",
    "# Excel-Datei einlesen\n",
    "df_excel = pd.read_excel(\"datei.xlsx\")\n",
    "\n",
    "# JSON-Datei einlesen\n",
    "df_json = pd.read_json(\"datei.json\")\n",
    "\n",
    "# Zeige die ersten Zeilen der CSV-Daten\n",
    "df_csv.head()\n"
   ]
  },
  {
   "cell_type": "markdown",
   "metadata": {},
   "source": [
    "## 2. Daten anzeigen\n",
    "Mit Pandas kannst du Daten schnell inspizieren und grundlegende Informationen erhalten.\n"
   ]
  },
  {
   "cell_type": "code",
   "execution_count": 1,
   "metadata": {},
   "outputs": [
    {
     "ename": "NameError",
     "evalue": "name 'df_csv' is not defined",
     "output_type": "error",
     "traceback": [
      "\u001b[1;31m---------------------------------------------------------------------------\u001b[0m",
      "\u001b[1;31mNameError\u001b[0m                                 Traceback (most recent call last)",
      "Cell \u001b[1;32mIn[1], line 2\u001b[0m\n\u001b[0;32m      1\u001b[0m \u001b[38;5;66;03m# Zeige die ersten 5 Zeilen\u001b[39;00m\n\u001b[1;32m----> 2\u001b[0m \u001b[38;5;28mprint\u001b[39m(\u001b[43mdf_csv\u001b[49m\u001b[38;5;241m.\u001b[39mhead())\n\u001b[0;32m      4\u001b[0m \u001b[38;5;66;03m# Zeige die letzten 5 Zeilen\u001b[39;00m\n\u001b[0;32m      5\u001b[0m \u001b[38;5;28mprint\u001b[39m(df_csv\u001b[38;5;241m.\u001b[39mtail())\n",
      "\u001b[1;31mNameError\u001b[0m: name 'df_csv' is not defined"
     ]
    }
   ],
   "source": [
    "# Zeige die ersten 5 Zeilen\n",
    "print(df_csv.head())\n",
    "\n",
    "# Zeige die letzten 5 Zeilen\n",
    "print(df_csv.tail())\n",
    "\n",
    "# Informationen über die Daten\n",
    "print(df_csv.info())\n",
    "\n",
    "# Statistische Kennzahlen\n",
    "print(df_csv.describe())\n"
   ]
  },
  {
   "cell_type": "markdown",
   "metadata": {},
   "source": [
    "## 3. Daten manipulieren\n",
    "Du kannst Spalten auswählen, neue hinzufügen oder Daten filtern.\n"
   ]
  },
  {
   "cell_type": "code",
   "execution_count": 2,
   "metadata": {},
   "outputs": [
    {
     "ename": "NameError",
     "evalue": "name 'df_csv' is not defined",
     "output_type": "error",
     "traceback": [
      "\u001b[1;31m---------------------------------------------------------------------------\u001b[0m",
      "\u001b[1;31mNameError\u001b[0m                                 Traceback (most recent call last)",
      "Cell \u001b[1;32mIn[2], line 2\u001b[0m\n\u001b[0;32m      1\u001b[0m \u001b[38;5;66;03m# Eine einzelne Spalte auswählen\u001b[39;00m\n\u001b[1;32m----> 2\u001b[0m spalte \u001b[38;5;241m=\u001b[39m \u001b[43mdf_csv\u001b[49m[\u001b[38;5;124m\"\u001b[39m\u001b[38;5;124mSpalte1\u001b[39m\u001b[38;5;124m\"\u001b[39m]\n\u001b[0;32m      4\u001b[0m \u001b[38;5;66;03m# Neue Spalte hinzufügen\u001b[39;00m\n\u001b[0;32m      5\u001b[0m df_csv[\u001b[38;5;124m\"\u001b[39m\u001b[38;5;124mNeue_Spalte\u001b[39m\u001b[38;5;124m\"\u001b[39m] \u001b[38;5;241m=\u001b[39m df_csv[\u001b[38;5;124m\"\u001b[39m\u001b[38;5;124mSpalte1\u001b[39m\u001b[38;5;124m\"\u001b[39m] \u001b[38;5;241m+\u001b[39m df_csv[\u001b[38;5;124m\"\u001b[39m\u001b[38;5;124mSpalte2\u001b[39m\u001b[38;5;124m\"\u001b[39m]\n",
      "\u001b[1;31mNameError\u001b[0m: name 'df_csv' is not defined"
     ]
    }
   ],
   "source": [
    "# Eine einzelne Spalte auswählen\n",
    "spalte = df_csv[\"Spalte1\"]\n",
    "\n",
    "# Neue Spalte hinzufügen\n",
    "df_csv[\"Neue_Spalte\"] = df_csv[\"Spalte1\"] + df_csv[\"Spalte2\"]\n",
    "\n",
    "# Daten filtern\n",
    "gefiltert = df_csv[df_csv[\"Spalte1\"] > 100]\n",
    "\n",
    "# Daten sortieren\n",
    "sortiert = df_csv.sort_values(by=\"Spalte2\", ascending=False)\n"
   ]
  },
  {
   "cell_type": "markdown",
   "metadata": {},
   "source": [
    "## 4. Daten bereinigen\n",
    "Pandas bietet Tools, um fehlende Werte zu handhaben oder Daten zu bereinigen.\n"
   ]
  },
  {
   "cell_type": "code",
   "execution_count": 3,
   "metadata": {},
   "outputs": [
    {
     "ename": "NameError",
     "evalue": "name 'df_csv' is not defined",
     "output_type": "error",
     "traceback": [
      "\u001b[1;31m---------------------------------------------------------------------------\u001b[0m",
      "\u001b[1;31mNameError\u001b[0m                                 Traceback (most recent call last)",
      "Cell \u001b[1;32mIn[3], line 2\u001b[0m\n\u001b[0;32m      1\u001b[0m \u001b[38;5;66;03m# Fehlende Werte anzeigen\u001b[39;00m\n\u001b[1;32m----> 2\u001b[0m fehlende_werte \u001b[38;5;241m=\u001b[39m \u001b[43mdf_csv\u001b[49m\u001b[38;5;241m.\u001b[39misnull()\u001b[38;5;241m.\u001b[39msum()\n\u001b[0;32m      3\u001b[0m \u001b[38;5;28mprint\u001b[39m(fehlende_werte)\n\u001b[0;32m      5\u001b[0m \u001b[38;5;66;03m# Fehlende Werte ersetzen\u001b[39;00m\n",
      "\u001b[1;31mNameError\u001b[0m: name 'df_csv' is not defined"
     ]
    }
   ],
   "source": [
    "# Fehlende Werte anzeigen\n",
    "fehlende_werte = df_csv.isnull().sum()\n",
    "print(fehlende_werte)\n",
    "\n",
    "# Fehlende Werte ersetzen\n",
    "df_csv[\"Spalte1\"].fillna(0, inplace=True)\n",
    "\n",
    "# Duplikate entfernen\n",
    "df_csv.drop_duplicates(inplace=True)\n",
    "\n",
    "# Datentyp ändern\n",
    "df_csv[\"Spalte1\"] = df_csv[\"Spalte1\"].astype(int)\n"
   ]
  },
  {
   "cell_type": "markdown",
   "metadata": {},
   "source": [
    "## 5. Gruppieren und Aggregieren\n",
    "Du kannst Daten gruppieren und zusammenfassen.\n"
   ]
  },
  {
   "cell_type": "code",
   "execution_count": 4,
   "metadata": {},
   "outputs": [
    {
     "ename": "NameError",
     "evalue": "name 'df_csv' is not defined",
     "output_type": "error",
     "traceback": [
      "\u001b[1;31m---------------------------------------------------------------------------\u001b[0m",
      "\u001b[1;31mNameError\u001b[0m                                 Traceback (most recent call last)",
      "Cell \u001b[1;32mIn[4], line 2\u001b[0m\n\u001b[0;32m      1\u001b[0m \u001b[38;5;66;03m# Gruppieren nach einer Kategorie und Werte summieren\u001b[39;00m\n\u001b[1;32m----> 2\u001b[0m gruppiert \u001b[38;5;241m=\u001b[39m \u001b[43mdf_csv\u001b[49m\u001b[38;5;241m.\u001b[39mgroupby(\u001b[38;5;124m\"\u001b[39m\u001b[38;5;124mKategorie\u001b[39m\u001b[38;5;124m\"\u001b[39m)[\u001b[38;5;124m\"\u001b[39m\u001b[38;5;124mWert\u001b[39m\u001b[38;5;124m\"\u001b[39m]\u001b[38;5;241m.\u001b[39msum()\n\u001b[0;32m      3\u001b[0m \u001b[38;5;28mprint\u001b[39m(gruppiert)\n\u001b[0;32m      5\u001b[0m \u001b[38;5;66;03m# Mehrere Aggregationen\u001b[39;00m\n",
      "\u001b[1;31mNameError\u001b[0m: name 'df_csv' is not defined"
     ]
    }
   ],
   "source": [
    "# Gruppieren nach einer Kategorie und Werte summieren\n",
    "gruppiert = df_csv.groupby(\"Kategorie\")[\"Wert\"].sum()\n",
    "print(gruppiert)\n",
    "\n",
    "# Mehrere Aggregationen\n",
    "mehrere_agg = df_csv.groupby(\"Kategorie\").agg({\"Wert\": [\"sum\", \"mean\", \"count\"]})\n",
    "print(mehrere_agg)\n"
   ]
  },
  {
   "cell_type": "markdown",
   "metadata": {},
   "source": [
    "## 6. Daten visualisieren\n",
    "Pandas arbeitet gut mit Matplotlib oder Seaborn, um Daten zu visualisieren.\n"
   ]
  },
  {
   "cell_type": "code",
   "execution_count": 5,
   "metadata": {},
   "outputs": [
    {
     "ename": "NameError",
     "evalue": "name 'df_csv' is not defined",
     "output_type": "error",
     "traceback": [
      "\u001b[1;31m---------------------------------------------------------------------------\u001b[0m",
      "\u001b[1;31mNameError\u001b[0m                                 Traceback (most recent call last)",
      "Cell \u001b[1;32mIn[5], line 4\u001b[0m\n\u001b[0;32m      1\u001b[0m \u001b[38;5;28;01mimport\u001b[39;00m \u001b[38;5;21;01mmatplotlib\u001b[39;00m\u001b[38;5;21;01m.\u001b[39;00m\u001b[38;5;21;01mpyplot\u001b[39;00m \u001b[38;5;28;01mas\u001b[39;00m \u001b[38;5;21;01mplt\u001b[39;00m\n\u001b[0;32m      3\u001b[0m \u001b[38;5;66;03m# Einfache Visualisierung\u001b[39;00m\n\u001b[1;32m----> 4\u001b[0m \u001b[43mdf_csv\u001b[49m[\u001b[38;5;124m\"\u001b[39m\u001b[38;5;124mSpalte1\u001b[39m\u001b[38;5;124m\"\u001b[39m]\u001b[38;5;241m.\u001b[39mhist()\n\u001b[0;32m      5\u001b[0m plt\u001b[38;5;241m.\u001b[39mtitle(\u001b[38;5;124m\"\u001b[39m\u001b[38;5;124mVerteilung von Spalte1\u001b[39m\u001b[38;5;124m\"\u001b[39m)\n\u001b[0;32m      6\u001b[0m plt\u001b[38;5;241m.\u001b[39mshow()\n",
      "\u001b[1;31mNameError\u001b[0m: name 'df_csv' is not defined"
     ]
    }
   ],
   "source": [
    "import matplotlib.pyplot as plt\n",
    "\n",
    "# Einfache Visualisierung\n",
    "df_csv[\"Spalte1\"].hist()\n",
    "plt.title(\"Verteilung von Spalte1\")\n",
    "plt.show()\n",
    "\n",
    "# Gruppierte Daten plotten\n",
    "gruppiert.plot(kind=\"bar\")\n",
    "plt.title(\"Summierte Werte nach Kategorie\")\n",
    "plt.show()\n"
   ]
  },
  {
   "cell_type": "markdown",
   "metadata": {},
   "source": [
    "## 7. Daten exportieren\n",
    "Nach der Bearbeitung kannst du Daten in verschiedene Formate speichern.\n"
   ]
  },
  {
   "cell_type": "code",
   "execution_count": 6,
   "metadata": {},
   "outputs": [
    {
     "ename": "NameError",
     "evalue": "name 'df_csv' is not defined",
     "output_type": "error",
     "traceback": [
      "\u001b[1;31m---------------------------------------------------------------------------\u001b[0m",
      "\u001b[1;31mNameError\u001b[0m                                 Traceback (most recent call last)",
      "Cell \u001b[1;32mIn[6], line 2\u001b[0m\n\u001b[0;32m      1\u001b[0m \u001b[38;5;66;03m# CSV exportieren\u001b[39;00m\n\u001b[1;32m----> 2\u001b[0m \u001b[43mdf_csv\u001b[49m\u001b[38;5;241m.\u001b[39mto_csv(\u001b[38;5;124m\"\u001b[39m\u001b[38;5;124moutput.csv\u001b[39m\u001b[38;5;124m\"\u001b[39m, index\u001b[38;5;241m=\u001b[39m\u001b[38;5;28;01mFalse\u001b[39;00m)\n\u001b[0;32m      4\u001b[0m \u001b[38;5;66;03m# Excel exportieren\u001b[39;00m\n\u001b[0;32m      5\u001b[0m df_csv\u001b[38;5;241m.\u001b[39mto_excel(\u001b[38;5;124m\"\u001b[39m\u001b[38;5;124moutput.xlsx\u001b[39m\u001b[38;5;124m\"\u001b[39m, index\u001b[38;5;241m=\u001b[39m\u001b[38;5;28;01mFalse\u001b[39;00m)\n",
      "\u001b[1;31mNameError\u001b[0m: name 'df_csv' is not defined"
     ]
    }
   ],
   "source": [
    "# CSV exportieren\n",
    "df_csv.to_csv(\"output.csv\", index=False)\n",
    "\n",
    "# Excel exportieren\n",
    "df_csv.to_excel(\"output.xlsx\", index=False)\n",
    "\n",
    "# JSON exportieren\n",
    "df_csv.to_json(\"output.json\")\n"
   ]
  },
  {
   "cell_type": "markdown",
   "metadata": {},
   "source": [
    "# Praktisches Beispiel\n",
    "Laden wir eine CSV-Datei, bereinigen die Daten und analysieren sie.\n"
   ]
  },
  {
   "cell_type": "code",
   "execution_count": 7,
   "metadata": {},
   "outputs": [
    {
     "ename": "NameError",
     "evalue": "name 'pd' is not defined",
     "output_type": "error",
     "traceback": [
      "\u001b[1;31m---------------------------------------------------------------------------\u001b[0m",
      "\u001b[1;31mNameError\u001b[0m                                 Traceback (most recent call last)",
      "Cell \u001b[1;32mIn[7], line 2\u001b[0m\n\u001b[0;32m      1\u001b[0m \u001b[38;5;66;03m# Beispiel-Datensatz laden\u001b[39;00m\n\u001b[1;32m----> 2\u001b[0m df \u001b[38;5;241m=\u001b[39m \u001b[43mpd\u001b[49m\u001b[38;5;241m.\u001b[39mread_csv(\u001b[38;5;124m\"\u001b[39m\u001b[38;5;124mverkaufsdaten.csv\u001b[39m\u001b[38;5;124m\"\u001b[39m)\n\u001b[0;32m      4\u001b[0m \u001b[38;5;66;03m# Fehlende Werte auffüllen\u001b[39;00m\n\u001b[0;32m      5\u001b[0m df\u001b[38;5;241m.\u001b[39mfillna(\u001b[38;5;241m0\u001b[39m, inplace\u001b[38;5;241m=\u001b[39m\u001b[38;5;28;01mTrue\u001b[39;00m)\n",
      "\u001b[1;31mNameError\u001b[0m: name 'pd' is not defined"
     ]
    }
   ],
   "source": [
    "# Beispiel-Datensatz laden\n",
    "df = pd.read_csv(\"verkaufsdaten.csv\")\n",
    "\n",
    "# Fehlende Werte auffüllen\n",
    "df.fillna(0, inplace=True)\n",
    "\n",
    "# Gruppieren und analysieren\n",
    "umsatz_pro_produkt = df.groupby(\"Produkt\")[\"Umsatz\"].sum()\n",
    "print(umsatz_pro_produkt)\n",
    "\n",
    "# Daten visualisieren\n",
    "umsatz_pro_produkt.plot(kind=\"bar\")\n",
    "plt.title(\"Umsatz pro Produkt\")\n",
    "plt.ylabel(\"Umsatz in €\")\n",
    "plt.show()\n"
   ]
  }
 ],
 "metadata": {
  "kernelspec": {
   "display_name": "ml2",
   "language": "python",
   "name": "python3"
  },
  "language_info": {
   "codemirror_mode": {
    "name": "ipython",
    "version": 3
   },
   "file_extension": ".py",
   "mimetype": "text/x-python",
   "name": "python",
   "nbconvert_exporter": "python",
   "pygments_lexer": "ipython3",
   "version": "3.12.3"
  }
 },
 "nbformat": 4,
 "nbformat_minor": 2
}
